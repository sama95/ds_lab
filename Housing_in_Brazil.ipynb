{
 "cells": [
  {
   "cell_type": "markdown",
   "id": "7519953e",
   "metadata": {},
   "source": [
    "\n",
    "<div class=\"alert alert-info\" role=\"alert\">\n",
    "  <p>\n",
    "    <b>Usage Guidelines</b>\n",
    "  </p>\n",
    "\n",
    "  <p>\n",
    "    This lesson is part of the <b>DS Lab core curriculum</b>. For that reason, this notebook can only be used on your WQU virtual machine.\n",
    "  </p>\n",
    "\n",
    "  <p>\n",
    "    This means:\n",
    "    <ul>\n",
    "      <li><span style=\"color: red\">ⓧ</span> No downloading this notebook.</li>\n",
    "      <li><span style=\"color: red\">ⓧ</span> No re-sharing of this notebook with friends or colleagues.</li>\n",
    "      <li><span style=\"color: red\">ⓧ</span> No downloading the embedded videos in this notebook.</li>\n",
    "      <li><span style=\"color: red\">ⓧ</span> No re-sharing embedded videos with friends or colleagues.</li>\n",
    "      <li><span style=\"color: red\">ⓧ</span> No adding this notebook to public or private repositories.</li>\n",
    "      <li><span style=\"color: red\">ⓧ</span> No uploading this notebook (or screenshots of it) to other websites, including websites for study resources.</li>\n",
    "    </ul>\n",
    "\n",
    "  </p>\n",
    "</div>"
   ]
  },
  {
   "cell_type": "code",
   "execution_count": null,
   "id": "53ed9fa5",
   "metadata": {},
   "outputs": [],
   "source": [
    "import wqet_grader\n",
    "\n",
    "wqet_grader.init(\"Project 1 Assessment\")"
   ]
  },
  {
   "cell_type": "code",
   "execution_count": null,
   "id": "fd61e62b",
   "metadata": {},
   "outputs": [],
   "source": [
    "import matplotlib.pyplot as plt\n",
    "import pandas as pd\n",
    "import plotly.express as px"
   ]
  },
  {
   "cell_type": "code",
   "execution_count": null,
   "id": "0114e7f8",
   "metadata": {},
   "outputs": [],
   "source": [
    "df1 = pd.read_csv('data/brasil-real-estate-1.csv')\n",
    "df1.head()"
   ]
  },
  {
   "cell_type": "code",
   "execution_count": null,
   "id": "d635d010",
   "metadata": {},
   "outputs": [],
   "source": [
    "\n",
    "wqet_grader.grade(\"Project 1 Assessment\", \"Task 1.5.1\", df1)"
   ]
  },
  {
   "cell_type": "code",
   "execution_count": null,
   "id": "56729f9e",
   "metadata": {},
   "outputs": [],
   "source": [
    "df1.info()"
   ]
  },
  {
   "cell_type": "code",
   "execution_count": null,
   "id": "454471af",
   "metadata": {},
   "outputs": [],
   "source": [
    "df1.head()"
   ]
  },
  {
   "cell_type": "code",
   "execution_count": null,
   "id": "68c417f1",
   "metadata": {},
   "outputs": [],
   "source": [
    "df1.dropna(inplace=True)"
   ]
  },
  {
   "cell_type": "code",
   "execution_count": null,
   "id": "8d3aea66",
   "metadata": {},
   "outputs": [],
   "source": [
    "\n",
    "wqet_grader.grade(\"Project 1 Assessment\", \"Task 1.5.2\", df1)"
   ]
  },
  {
   "cell_type": "code",
   "execution_count": null,
   "id": "2b0cbcb9",
   "metadata": {},
   "outputs": [],
   "source": [
    "df1[['lat','lon']] = df1['lat-lon'].str.split(',', expand = True).astype(float)\n",
    "df1.head()"
   ]
  },
  {
   "cell_type": "code",
   "execution_count": null,
   "id": "388951c8",
   "metadata": {},
   "outputs": [],
   "source": [
    "\n",
    "wqet_grader.grade(\"Project 1 Assessment\", \"Task 1.5.3\", df1)"
   ]
  },
  {
   "cell_type": "code",
   "execution_count": null,
   "id": "ad84fc34",
   "metadata": {},
   "outputs": [],
   "source": [
    "df1['state'] = df1['place_with_parent_names'].str.split('|', expand=True)[2]"
   ]
  },
  {
   "cell_type": "code",
   "execution_count": null,
   "id": "e0cdca74",
   "metadata": {},
   "outputs": [],
   "source": [
    "\n",
    "wqet_grader.grade(\"Project 1 Assessment\", \"Task 1.5.4\", df1)"
   ]
  },
  {
   "cell_type": "code",
   "execution_count": null,
   "id": "8ed36d8f",
   "metadata": {},
   "outputs": [],
   "source": [
    "df1['price_usd'] = (df1['price_usd']\n",
    "                    .str.replace('$','',regex=False)\n",
    "                    .str.replace(',','')\n",
    "                    .astype(float)\n",
    "                   )"
   ]
  },
  {
   "cell_type": "code",
   "execution_count": null,
   "id": "45704431",
   "metadata": {},
   "outputs": [],
   "source": [
    "\n",
    "wqet_grader.grade(\"Project 1 Assessment\", \"Task 1.5.5\", df1)"
   ]
  },
  {
   "cell_type": "code",
   "execution_count": null,
   "id": "2ccebf41",
   "metadata": {},
   "outputs": [],
   "source": [
    "df1.drop(columns=['place_with_parent_names','lat-lon'],inplace=True)"
   ]
  },
  {
   "cell_type": "code",
   "execution_count": null,
   "id": "d6820980",
   "metadata": {},
   "outputs": [],
   "source": [
    "\n",
    "wqet_grader.grade(\"Project 1 Assessment\", \"Task 1.5.6\", df1)"
   ]
  },
  {
   "cell_type": "code",
   "execution_count": null,
   "id": "775befef",
   "metadata": {},
   "outputs": [],
   "source": [
    "df2 = pd.read_csv('data/brasil-real-estate-2.csv')"
   ]
  },
  {
   "cell_type": "code",
   "execution_count": null,
   "id": "029c84b6",
   "metadata": {},
   "outputs": [],
   "source": [
    "\n",
    "wqet_grader.grade(\"Project 1 Assessment\", \"Task 1.5.7\", df2)"
   ]
  },
  {
   "cell_type": "code",
   "execution_count": null,
   "id": "a4d6fbf0",
   "metadata": {},
   "outputs": [],
   "source": [
    "df2.head()"
   ]
  },
  {
   "cell_type": "code",
   "execution_count": null,
   "id": "bbbc0628",
   "metadata": {},
   "outputs": [],
   "source": [
    "df2.info()"
   ]
  },
  {
   "cell_type": "code",
   "execution_count": null,
   "id": "27591b74",
   "metadata": {},
   "outputs": [],
   "source": [
    "df2['price_usd'] = (df2['price_brl']/3.19).round(2)"
   ]
  },
  {
   "cell_type": "code",
   "execution_count": null,
   "id": "3a265b73",
   "metadata": {},
   "outputs": [],
   "source": [
    "df2.drop(columns=['price_brl'],inplace=True)\n",
    "df2.dropna(inplace=True)"
   ]
  },
  {
   "cell_type": "code",
   "execution_count": null,
   "id": "6f15ede8",
   "metadata": {},
   "outputs": [],
   "source": [
    "\n",
    "wqet_grader.grade(\"Project 1 Assessment\", \"Task 1.5.9\", df2)"
   ]
  },
  {
   "cell_type": "code",
   "execution_count": null,
   "id": "6ee7b982",
   "metadata": {},
   "outputs": [],
   "source": [
    "df = pd.concat([df1,df2])\n",
    "print(\"df shape:\", df.shape)"
   ]
  },
  {
   "cell_type": "code",
   "execution_count": null,
   "id": "4c4377fb",
   "metadata": {},
   "outputs": [],
   "source": [
    "\n",
    "wqet_grader.grade(\"Project 1 Assessment\", \"Task 1.5.10\", df)"
   ]
  },
  {
   "cell_type": "code",
   "execution_count": null,
   "id": "b34859f8",
   "metadata": {},
   "outputs": [],
   "source": [
    "fig = px.scatter_mapbox(\n",
    "    df,\n",
    "    lat='lat',\n",
    "    lon='lon',\n",
    "    center={\"lat\": -14.2, \"lon\": -51.9},  # Map will be centered on Brazil\n",
    "    width=600,\n",
    "    height=600,\n",
    "    hover_data=[\"price_usd\"],  # Display price when hovering mouse over house\n",
    ")\n",
    "\n",
    "fig.update_layout(mapbox_style=\"open-street-map\")\n",
    "\n",
    "fig.show()"
   ]
  },
  {
   "cell_type": "code",
   "execution_count": null,
   "id": "81123df8",
   "metadata": {},
   "outputs": [],
   "source": [
    "summary_stats = df[['area_m2','price_usd']].describe()\n",
    "summary_stats"
   ]
  },
  {
   "cell_type": "code",
   "execution_count": null,
   "id": "262a043c",
   "metadata": {},
   "outputs": [],
   "source": [
    "\n",
    "wqet_grader.grade(\"Project 1 Assessment\", \"Task 1.5.11\", summary_stats)"
   ]
  },
  {
   "cell_type": "code",
   "execution_count": null,
   "id": "26d95e12",
   "metadata": {},
   "outputs": [],
   "source": [
    "# Build histogram\n",
    "plt.hist(df['price_usd'])\n",
    "\n",
    "# Label axes\n",
    "plt.xlabel('Price [USD]')\n",
    "plt.ylabel('Frequency')\n",
    "\n",
    "# Add title\n",
    "plt.title('Distribution of Home Prices')\n",
    "\n",
    "# Don't change the code below 👇\n",
    "plt.savefig(\"images/1-5-12.png\", dpi=150)\n"
   ]
  },
  {
   "cell_type": "code",
   "execution_count": null,
   "id": "e32cf52e",
   "metadata": {},
   "outputs": [],
   "source": [
    "with open(\"images/1-5-12.png\", \"rb\") as file:\n",
    "    wqet_grader.grade(\"Project 1 Assessment\", \"Task 1.5.12\", file)"
   ]
  },
  {
   "cell_type": "code",
   "execution_count": null,
   "id": "71a5faac",
   "metadata": {},
   "outputs": [],
   "source": [
    "# Build box plot\n",
    "plt.boxplot(df['area_m2'], vert=False)\n",
    "\n",
    "\n",
    "# Label x-axis\n",
    "plt.xlabel('Area [sq meters]')\n",
    "plt.ylabel('Frequency')\n",
    "\n",
    "# Add title\n",
    "plt.title('Distribution of Home Sizes')\n",
    "\n",
    "# Don't change the code below 👇\n",
    "plt.savefig(\"images/1-5-13.png\", dpi=150)\n"
   ]
  },
  {
   "cell_type": "code",
   "execution_count": null,
   "id": "48479ff1",
   "metadata": {},
   "outputs": [],
   "source": [
    "with open(\"images/1-5-13.png\", \"rb\") as file:\n",
    "    wqet_grader.grade(\"Project 1 Assessment\", \"Task 1.5.13\", file)"
   ]
  },
  {
   "cell_type": "code",
   "execution_count": null,
   "id": "d94acc93",
   "metadata": {},
   "outputs": [],
   "source": [
    "mean_price_by_region = df.groupby('region')['price_usd'].mean().sort_values(ascending=True)\n",
    "mean_price_by_region"
   ]
  },
  {
   "cell_type": "code",
   "execution_count": null,
   "id": "c5ee0fe6",
   "metadata": {},
   "outputs": [],
   "source": [
    "\n",
    "wqet_grader.grade(\"Project 1 Assessment\", \"Task 1.5.14\", mean_price_by_region)"
   ]
  },
  {
   "cell_type": "code",
   "execution_count": null,
   "id": "8ccf9e5f",
   "metadata": {},
   "outputs": [],
   "source": [
    "# Build bar chart, label axes, add title\n",
    "mean_price_by_region.plot(kind='bar',xlabel='region',ylabel='Price [USD]')\n",
    "\n",
    "# Don't change the code below 👇\n",
    "plt.savefig(\"images/1-5-15.png\", dpi=150)\n"
   ]
  },
  {
   "cell_type": "code",
   "execution_count": null,
   "id": "aecf5a6f",
   "metadata": {},
   "outputs": [],
   "source": [
    "with open(\"images/1-5-15.png\", \"rb\") as file:\n",
    "    wqet_grader.grade(\"Project 1 Assessment\", \"Task 1.5.15\", file)"
   ]
  },
  {
   "cell_type": "code",
   "execution_count": null,
   "id": "e4f6e4a0",
   "metadata": {},
   "outputs": [],
   "source": [
    "df_south = df[df['region']=='South']\n",
    "df_south.head()"
   ]
  },
  {
   "cell_type": "code",
   "execution_count": null,
   "id": "a5a8d086",
   "metadata": {},
   "outputs": [],
   "source": [
    "\n",
    "wqet_grader.grade(\"Project 1 Assessment\", \"Task 1.5.16\", df_south)"
   ]
  },
  {
   "cell_type": "code",
   "execution_count": null,
   "id": "6c35f32d",
   "metadata": {},
   "outputs": [],
   "source": [
    "homes_by_state = df_south['state'].value_counts()\n",
    "homes_by_state"
   ]
  },
  {
   "cell_type": "code",
   "execution_count": null,
   "id": "745c6ca0",
   "metadata": {},
   "outputs": [],
   "source": [
    "\n",
    "wqet_grader.grade(\"Project 1 Assessment\", \"Task 1.5.17\", homes_by_state)"
   ]
  },
  {
   "cell_type": "code",
   "execution_count": null,
   "id": "bebe6bfe",
   "metadata": {},
   "outputs": [],
   "source": [
    "# Subset data\n",
    "df_south_rgs = df[df['state'] == 'Rio Grande do Sul']\n",
    "\n",
    "# Build scatter plot\n",
    "plt.scatter(df_south_rgs['area_m2'],df_south_rgs['price_usd'])\n",
    "\n",
    "\n",
    "# Label axes\n",
    "plt.xlabel('Area [sq meters]')\n",
    "plt.ylabel('Price [USD]')\n",
    "\n",
    "# Add title\n",
    "plt.title(\"Rio Grande do Sul: Price vs. Area\")\n",
    "\n",
    "# Don't change the code below 👇\n",
    "plt.savefig(\"images/1-5-18.png\", dpi=150)\n"
   ]
  },
  {
   "cell_type": "code",
   "execution_count": null,
   "id": "64713f65",
   "metadata": {},
   "outputs": [],
   "source": [
    "with open(\"images/1-5-18.png\", \"rb\") as file:\n",
    "    wqet_grader.grade(\"Project 1 Assessment\", \"Task 1.5.18\", file)"
   ]
  },
  {
   "cell_type": "code",
   "execution_count": null,
   "id": "accdff2e",
   "metadata": {},
   "outputs": [],
   "source": [
    "df_south_rgs = df[df['state'] == 'Rio Grande do Sul']\n",
    "df_south_sc = df[df['state'] == 'Santa Catarina']\n",
    "df_south_p = df[df['state'] == 'Paraná']\n",
    "\n",
    "#south_states_corr = {'Paraná': df_south_p['area_m2'].corr(df_south_p['price_usd']),\n",
    "#                     'Santa Catarina': df_south_sc['area_m2'].corr(df_south_sc['price_usd']),\n",
    "#                     'Rio Grande do Sul': df_south_rgs['area_m2'].corr(df_south_rgs['price_usd'])}\n",
    "\n",
    "#south_states_corr = {'Paraná': df_south_p['area_m2'].corr(df_south_p['price_usd']),\n",
    "#                     'Rio Grande do Sul': df_south_rgs['area_m2'].corr(df_south_rgs['price_usd']),\n",
    "#                     'Santa Catarina': df_south_sc['area_m2'].corr(df_south_sc['price_usd']),}\n",
    "\n",
    "#south_states_corr = {'Santa Catarina': df_south_sc['area_m2'].corr(df_south_sc['price_usd']),\n",
    "#                     'Paraná': df_south_p['area_m2'].corr(df_south_p['price_usd']),\n",
    "#                     'Rio Grande do Sul': df_south_rgs['area_m2'].corr(df_south_rgs['price_usd'])}\n",
    "\n",
    "#south_states_corr = {'Santa Catarina': df_south_sc['area_m2'].corr(df_south_sc['price_usd']),\n",
    "#                     'Rio Grande do Sul': df_south_rgs['area_m2'].corr(df_south_rgs['price_usd']),\n",
    "#                     'Paraná': df_south_p['area_m2'].corr(df_south_p['price_usd'])}\n",
    "\n",
    "#south_states_corr = {'Rio Grande do Sul': df_south_rgs['area_m2'].corr(df_south_rgs['price_usd']),\n",
    "#                     'Paraná': df_south_p['area_m2'].corr(df_south_p['price_usd']),\n",
    "#                     'Santa Catarina': df_south_sc['area_m2'].corr(df_south_sc['price_usd'])}\n",
    "\n",
    "south_states_corr = {'Rio Grande do Sul': df_south_rgs['area_m2'].corr(df_south_rgs['price_usd']),\n",
    "                     'Santa Catarina': df_south_sc['area_m2'].corr(df_south_sc['price_usd']),\n",
    "                     'Parana': df_south_p['area_m2'].corr(df_south_p['price_usd'])}\n",
    "\n",
    "south_states_corr"
   ]
  },
  {
   "cell_type": "code",
   "execution_count": null,
   "id": "4442afea",
   "metadata": {},
   "outputs": [],
   "source": [
    "wqet_grader.grade(\"Project 1 Assessment\", \"Task 1.5.19\", south_states_corr)"
   ]
  },
  {
   "cell_type": "code",
   "execution_count": null,
   "id": "614bfd3c",
   "metadata": {},
   "outputs": [],
   "source": []
  },
  {
   "cell_type": "code",
   "execution_count": null,
   "id": "c798f66f",
   "metadata": {},
   "outputs": [],
   "source": []
  },
  {
   "cell_type": "code",
   "execution_count": null,
   "id": "6332abba",
   "metadata": {},
   "outputs": [],
   "source": []
  },
  {
   "cell_type": "code",
   "execution_count": null,
   "id": "43a4b49e",
   "metadata": {},
   "outputs": [],
   "source": []
  },
  {
   "cell_type": "code",
   "execution_count": null,
   "id": "21ea057d",
   "metadata": {},
   "outputs": [],
   "source": []
  }
 ],
 "metadata": {
  "kernelspec": {
   "display_name": "Python 3 (ipykernel)",
   "language": "python",
   "name": "python3"
  },
  "language_info": {
   "codemirror_mode": {
    "name": "ipython",
    "version": 3
   },
   "file_extension": ".py",
   "mimetype": "text/x-python",
   "name": "python",
   "nbconvert_exporter": "python",
   "pygments_lexer": "ipython3",
   "version": "3.10.2"
  }
 },
 "nbformat": 4,
 "nbformat_minor": 5
}

{
 "cells": [
  {
   "cell_type": "markdown",
   "id": "eeda0fe7",
   "metadata": {},
   "source": [
    "<font size=\"+3\"><strong>6.5. Small Business Owners in the United States🇺🇸</strong></font>"
   ]
  },
  {
   "cell_type": "code",
   "execution_count": null,
   "id": "99c747c5",
   "metadata": {},
   "outputs": [],
   "source": [
    "# Import libraries here\n",
    "\n",
    "import pandas as pd\n",
    "import plotly.express as px\n",
    "import wqet_grader\n",
    "from IPython.display import VimeoVideo\n",
    "from scipy.stats.mstats import trimmed_var\n",
    "from sklearn.cluster import KMeans\n",
    "from sklearn.decomposition import PCA\n",
    "from sklearn.metrics import silhouette_score\n",
    "from sklearn.pipeline import make_pipeline\n",
    "from sklearn.preprocessing import StandardScaler"
   ]
  },
  {
   "cell_type": "markdown",
   "id": "fde694da",
   "metadata": {},
   "source": [
    "# Prepare Data"
   ]
  },
  {
   "cell_type": "markdown",
   "id": "8912b4e7",
   "metadata": {},
   "source": [
    "## Import"
   ]
  },
  {
   "cell_type": "code",
   "execution_count": null,
   "id": "7e375e75",
   "metadata": {},
   "outputs": [],
   "source": [
    "df = pd.read_csv(\"data/SCFP2019.csv.gz\")\n",
    "print(\"df shape:\", df.shape)\n",
    "df.head()"
   ]
  },
  {
   "cell_type": "code",
   "execution_count": null,
   "id": "232f90e5",
   "metadata": {},
   "outputs": [],
   "source": [
    "prop_biz_owners = len(df[df[\"HBUS\"]==1])/len(df)\n",
    "print(\"proportion of business owners in df:\", prop_biz_owners)"
   ]
  },
  {
   "cell_type": "code",
   "execution_count": null,
   "id": "e60960ef",
   "metadata": {},
   "outputs": [],
   "source": [
    "inccat_dict = {\n",
    "    1: \"0-20\",\n",
    "    2: \"21-39.9\",\n",
    "    3: \"40-59.9\",\n",
    "    4: \"60-79.9\",\n",
    "    5: \"80-89.9\",\n",
    "    6: \"90-100\",\n",
    "}\n",
    "\n",
    "df_inccat = df[\"INCCAT\"].replace(inccat_dict).groupby(df[\"HBUS\"]).value_counts(normalize=True).rename(\"frequency\").to_frame().reset_index()\n",
    "\n",
    "df_inccat"
   ]
  },
  {
   "cell_type": "code",
   "execution_count": null,
   "id": "c1cb24d5",
   "metadata": {},
   "outputs": [],
   "source": [
    "# Create bar chart of `df_inccat`\n",
    "sns.barplot(\n",
    "    x=\"INCCAT\",\n",
    "    y=\"frequency\",\n",
    "    hue=\"HBUS\",\n",
    "    data=df_inccat,\n",
    "    order=inccat_dict.values()\n",
    ")\n",
    "plt.xlabel(\"Income Category\")\n",
    "plt.ylabel(\"Frequency (%)\")\n",
    "plt.title(\"Income Distribution: Business Owners vs. Non-Business Owners\");\n",
    "# Don't delete the code below 👇\n",
    "plt.savefig(\"images/6-5-4.png\", dpi=150)\n"
   ]
  },
  {
   "cell_type": "code",
   "execution_count": null,
   "id": "62f789d2",
   "metadata": {},
   "outputs": [],
   "source": [
    "# Plot \"HOUSES\" vs \"DEBT\" with hue=label\n",
    "sns.scatterplot(\n",
    "    x=\"HOUSES\",\n",
    "    y=\"DEBT\",\n",
    "    hue=\"HBUS\",\n",
    "    data=df,\n",
    ")\n",
    "plt.xlabel(\"Household Debt\")\n",
    "plt.ylabel(\"Home Value\")\n",
    "plt.title(\"Home Value vs. Household Debt\");\n",
    "# Don't delete the code below 👇\n",
    "plt.savefig(\"images/6-5-5.png\", dpi=150)\n"
   ]
  },
  {
   "cell_type": "code",
   "execution_count": null,
   "id": "1db11516",
   "metadata": {},
   "outputs": [],
   "source": [
    "mask = (df[\"HBUS\"]==1)&(df[\"INCOME\"]<500000.0)\n",
    "df_small_biz = df[mask]\n",
    "print(\"df_small_biz shape:\", df_small_biz.shape)\n",
    "df_small_biz.head()"
   ]
  },
  {
   "cell_type": "code",
   "execution_count": null,
   "id": "d30722b7",
   "metadata": {},
   "outputs": [],
   "source": [
    "# Plot histogram of \"AGE\"\n",
    "df_small_biz[\"AGE\"].hist(bins=10)\n",
    "plt.xlabel(\"AGE\")\n",
    "plt.ylabel(\"Frequency (count)\")\n",
    "plt.title(\"Small Business Owners: Age Distribution\")\n",
    "# Don't delete the code below 👇\n",
    "plt.savefig(\"images/6-5-7.png\", dpi=150)\n"
   ]
  },
  {
   "cell_type": "code",
   "execution_count": null,
   "id": "b3af3ab2",
   "metadata": {},
   "outputs": [],
   "source": [
    "# Calculate variance, get 10 largest features\n",
    "top_ten_var = df_small_biz.var().sort_values().tail(10)\n",
    "top_ten_var"
   ]
  },
  {
   "cell_type": "code",
   "execution_count": null,
   "id": "9e8681f6",
   "metadata": {},
   "outputs": [],
   "source": [
    "# Calculate trimmed variance\n",
    "top_ten_trim_var = df_small_biz.apply(trimmed_var).sort_values().tail(10)\n",
    "top_ten_trim_var"
   ]
  },
  {
   "cell_type": "code",
   "execution_count": null,
   "id": "f1bb5f72",
   "metadata": {},
   "outputs": [],
   "source": [
    "# Create horizontal bar chart of `top_ten_trim_var`\n",
    "fig = px.bar(\n",
    "    x=top_ten_trim_var,\n",
    "    y=top_ten_trim_var.index,\n",
    "    title=\"Small Business Owners: High Variance Features\"\n",
    ")\n",
    "fig.update_layout(xaxis_title=\"Trimmed Variance [$]\", yaxis_title=\"Feature\")\n",
    "# Don't delete the code below 👇\n",
    "fig.write_image(\"images/6-5-10.png\", scale=1, height=500, width=700)\n",
    "\n",
    "fig.show()"
   ]
  },
  {
   "cell_type": "code",
   "execution_count": null,
   "id": "4fa10687",
   "metadata": {},
   "outputs": [],
   "source": [
    "high_var_cols = top_ten_trim_var.tail(5).index.to_list()\n",
    "high_var_cols"
   ]
  },
  {
   "cell_type": "markdown",
   "id": "b9a7e726",
   "metadata": {},
   "source": [
    "## Split"
   ]
  },
  {
   "cell_type": "code",
   "execution_count": null,
   "id": "f01b1454",
   "metadata": {},
   "outputs": [],
   "source": [
    "X = df_small_biz[high_var_cols]\n",
    "print(\"X shape:\", X.shape)"
   ]
  },
  {
   "cell_type": "markdown",
   "id": "efebbe9c",
   "metadata": {},
   "source": [
    "# Build Model"
   ]
  },
  {
   "cell_type": "markdown",
   "id": "06b3e5f5",
   "metadata": {},
   "source": [
    "## Iterate"
   ]
  },
  {
   "cell_type": "code",
   "execution_count": null,
   "id": "23d31733",
   "metadata": {},
   "outputs": [],
   "source": [
    "n_clusters = range(2, 13)\n",
    "inertia_errors = []\n",
    "silhouette_scores = []\n",
    "\n",
    "# Add `for` loop to train model and calculate inertia, silhouette score.\n",
    "for k in n_clusters:\n",
    "    model = make_pipeline(\n",
    "        StandardScaler(),\n",
    "        KMeans(n_clusters=k, random_state=42)\n",
    "    )\n",
    "    model.fit(X)\n",
    "    inertia_errors.append(model.named_steps[\"kmeans\"].inertia_)\n",
    "    silhouette_scores.append(silhouette_score(X, model.named_steps[\"kmeans\"].labels_))\n",
    "    \n",
    "\n",
    "print(\"Inertia:\", inertia_errors[:11])\n",
    "print()\n",
    "print(\"Silhouette Scores:\", silhouette_scores[:3])"
   ]
  },
  {
   "cell_type": "code",
   "execution_count": null,
   "id": "1f309577",
   "metadata": {},
   "outputs": [],
   "source": [
    "# Create line plot of `inertia_errors` vs `n_clusters`\n",
    "fig = px.line(\n",
    "    x=n_clusters,\n",
    "    y=inertia_errors,\n",
    "    title=\"K-Means Model: Inertia vs Number of Clusters\"\n",
    ")\n",
    "fig.update_layout(xaxis_title=\"Number of Clusters\", yaxis_title=\"Inertia\")\n",
    "# Don't delete the code below 👇\n",
    "fig.write_image(\"images/6-5-14.png\", scale=1, height=500, width=700)\n",
    "\n",
    "fig.show()"
   ]
  },
  {
   "cell_type": "code",
   "execution_count": null,
   "id": "d9bc4fed",
   "metadata": {},
   "outputs": [],
   "source": [
    "# Create a line plot of `silhouette_scores` vs `n_clusters`\n",
    "fig = px.line(\n",
    "    x=n_clusters,\n",
    "    y=silhouette_scores,\n",
    "    title=\"K-Means Model: Inertia vs Number of Clusters\"\n",
    ")\n",
    "fig.update_layout(xaxis_title=\"Number of Clusters\", yaxis_title=\"Silhouette Score\")\n",
    "# Don't delete the code below 👇\n",
    "fig.write_image(\"images/6-5-15.png\", scale=1, height=500, width=700)\n",
    "\n",
    "fig.show()"
   ]
  },
  {
   "cell_type": "markdown",
   "id": "63209672",
   "metadata": {},
   "source": [
    "# Communicate"
   ]
  },
  {
   "cell_type": "code",
   "execution_count": null,
   "id": "bb9c3d2c",
   "metadata": {},
   "outputs": [],
   "source": [
    "labels = final_model.named_steps[\"kmeans\"].labels_\n",
    "xgb = X.groupby(labels).mean()\n",
    "xgb"
   ]
  },
  {
   "cell_type": "code",
   "execution_count": null,
   "id": "cb601090",
   "metadata": {},
   "outputs": [],
   "source": [
    "# Create side-by-side bar chart of `xgb`\n",
    "fig = px.bar(\n",
    "    xgb,\n",
    "    barmode=\"group\",\n",
    "    title=\"Small Business Owner Finances by Cluster\"\n",
    ")\n",
    "fig.update_layout(xaxis_title=\"Cluster\", yaxis_title=\"Value [$]\")\n",
    "# Don't delete the code below 👇\n",
    "fig.write_image(\"images/6-5-18.png\", scale=1, height=500, width=700)\n",
    "\n",
    "fig.show()"
   ]
  },
  {
   "cell_type": "code",
   "execution_count": null,
   "id": "6244b08b",
   "metadata": {},
   "outputs": [],
   "source": [
    "# Instantiate transformer\n",
    "pca = PCA(n_components=2, random_state=42)\n",
    "\n",
    "# Transform `X`\n",
    "X_t = pca.fit_transform(X)\n",
    "\n",
    "# Put `X_t` into DataFrame\n",
    "X_pca = pd.DataFrame(X_t, columns=[\"PC1\", \"PC2\"])\n",
    "\n",
    "print(\"X_pca shape:\", X_pca.shape)\n",
    "X_pca.head()"
   ]
  },
  {
   "cell_type": "code",
   "execution_count": null,
   "id": "44a88e53",
   "metadata": {},
   "outputs": [],
   "source": [
    "# Create scatter plot of `PC2` vs `PC1`\n",
    "fig = px.scatter(\n",
    "    data_frame=X_pca,\n",
    "    x=\"PC1\",\n",
    "    y=\"PC2\",\n",
    "    color=labels,\n",
    "    title=\"PCA Representation of Clusters\"\n",
    ")\n",
    "fig.update_layout(xaxis_title=\"PCA1\", yaxis_title=\"PCA2\")\n",
    "# Don't delete the code below 👇\n",
    "fig.write_image(\"images/6-5-20.png\", scale=1, height=500, width=700)\n",
    "\n",
    "fig.show()"
   ]
  },
  {
   "cell_type": "code",
   "execution_count": null,
   "id": "7c08eb07",
   "metadata": {},
   "outputs": [],
   "source": []
  }
 ],
 "metadata": {
  "kernelspec": {
   "display_name": "Python 3 (ipykernel)",
   "language": "python",
   "name": "python3"
  },
  "language_info": {
   "codemirror_mode": {
    "name": "ipython",
    "version": 3
   },
   "file_extension": ".py",
   "mimetype": "text/x-python",
   "name": "python",
   "nbconvert_exporter": "python",
   "pygments_lexer": "ipython3",
   "version": "3.10.2"
  }
 },
 "nbformat": 4,
 "nbformat_minor": 5
}
